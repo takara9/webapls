{
    "cells": [
        {
            "cell_type": "code", 
            "metadata": {}, 
            "outputs": [
                {
                    "text": "[ 0.   0.5]\n0.5\n-0.2\n", 
                    "output_type": "stream", 
                    "name": "stdout"
                }
            ], 
            "source": "# Perceptron AND\n\nimport numpy as np\nx = np.array([0,1])      # \u5165\u529b\nw = np.array([0.5,0.5])  # \u91cd\u307f\nb = -0.7                 # \u30d0\u30a4\u30a2\u30b9\nprint w*x\nprint np.sum(w*x)\nprint np.sum(w*x) + b\n\n", 
            "execution_count": 1
        }, 
        {
            "cell_type": "code", 
            "metadata": {
                "collapsed": true
            }, 
            "outputs": [], 
            "source": "", 
            "execution_count": null
        }
    ], 
    "nbformat": 4, 
    "metadata": {
        "kernelspec": {
            "display_name": "Python 2 with Spark 2.1", 
            "name": "python2-spark21", 
            "language": "python"
        }, 
        "language_info": {
            "mimetype": "text/x-python", 
            "version": "2.7.11", 
            "file_extension": ".py", 
            "name": "python", 
            "pygments_lexer": "ipython2", 
            "nbconvert_exporter": "python", 
            "codemirror_mode": {
                "version": 2, 
                "name": "ipython"
            }
        }
    }, 
    "nbformat_minor": 1
}