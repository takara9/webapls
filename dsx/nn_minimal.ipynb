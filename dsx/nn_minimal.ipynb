{
    "metadata": {
        "kernelspec": {
            "language": "python", 
            "display_name": "Python 2 with Spark 2.1", 
            "name": "python2-spark21"
        }, 
        "language_info": {
            "version": "2.7.11", 
            "nbconvert_exporter": "python", 
            "codemirror_mode": {
                "version": 2, 
                "name": "ipython"
            }, 
            "mimetype": "text/x-python", 
            "name": "python", 
            "pygments_lexer": "ipython2", 
            "file_extension": ".py"
        }
    }, 
    "nbformat": 4, 
    "cells": [
        {
            "execution_count": 1, 
            "metadata": {}, 
            "cell_type": "code", 
            "outputs": [
                {
                    "output_type": "stream", 
                    "name": "stdout", 
                    "text": "[ 0.31682708  0.69627909]\n"
                }
            ], 
            "source": "import numpy as np\n\n# \u30b7\u30b0\u30e2\u30a4\u30c9\u95a2\u6570\ndef sigmoid(x):\n    return 1 / (1 + np.exp(-x))\n\n# \u6052\u7b49\u95a2\u6570\ndef indentity_function(x):\n    return x\n\n# \u30bd\u30d5\u30c8\u30de\u30c3\u30af\u30b9\u95a2\u6570\ndef softmax(a):\n    c = np.max(a)\n    exp_a = np.exp(a - c)\n    exp_sum_a = np.sum(exp_a)\n    y = exp_a / exp_sum_a\n    return y\n\ndef init_network():\n    network = {}\n    network['W1'] = np.array([[0.1,0.3,0.5],[0.2,0.4,0.6]])\n    network['b1'] = np.array([0.1,0.2,0.3])\n    network['W2'] = np.array([[0.1,0.4],[0.2,0.5],[0.3,0.6]])\n    network['b2'] = np.array([0.1,0.2])\n    network['W3'] = np.array([[0.1,0.3],[0.2,0.4]])\n    network['b3'] = np.array([0.1,0.2])\n    return network\n\ndef forward(network,x):\n    W1,W2,W3 = network['W1'],network['W2'],network['W3']\n    b1,b2,b3 = network['b1'],network['b2'],network['b3']\n    \n    a1 = np.dot(x,W1) + b1\n    z1 = sigmoid(a1)\n    a2 = np.dot(z1,W2) + b2\n    z2 = sigmoid(a2)\n    a3 = np.dot(z2,W3) + b3\n    z3 = sigmoid(a3)\n    y = indentity_function(a3) \n    #y = softmax(a3)\n    return y\n\nnetwork = init_network()\nx = np.array([1.0,0.5])\ny = forward(network,x)\nprint y\n"
        }, 
        {
            "execution_count": null, 
            "metadata": {
                "collapsed": true
            }, 
            "cell_type": "code", 
            "outputs": [], 
            "source": ""
        }
    ], 
    "nbformat_minor": 1
}