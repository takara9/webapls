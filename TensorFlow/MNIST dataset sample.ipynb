{
    "metadata": {
        "language_info": {
            "file_extension": ".py", 
            "mimetype": "text/x-python", 
            "codemirror_mode": {
                "version": 2, 
                "name": "ipython"
            }, 
            "pygments_lexer": "ipython2", 
            "name": "python", 
            "version": "2.7.11", 
            "nbconvert_exporter": "python"
        }, 
        "kernelspec": {
            "display_name": "Python 2 with Spark 1.6 (Unsupported)", 
            "language": "python", 
            "name": "python2"
        }
    }, 
    "cells": [
        {
            "metadata": {}, 
            "cell_type": "markdown", 
            "source": "**[MDS-01]** \u30e2\u30b8\u30e5\u30fc\u30eb\u3092\u30a4\u30f3\u30dd\u30fc\u30c8\u3057\u307e\u3059\u3002"
        }, 
        {
            "outputs": [], 
            "cell_type": "code", 
            "execution_count": 1, 
            "metadata": {
                "collapsed": true
            }, 
            "source": "import numpy as np\nimport matplotlib.pyplot as plt\nfrom tensorflow.examples.tutorials.mnist import input_data"
        }, 
        {
            "metadata": {}, 
            "cell_type": "markdown", 
            "source": "**[MDS-02]** MNIST\u306e\u30c7\u30fc\u30bf\u30bb\u30c3\u30c8\u3092\u30c0\u30a6\u30f3\u30ed\u30fc\u30c9\u3057\u3066\u3001\u30aa\u30d6\u30b8\u30a7\u30af\u30c8\u306b\u683c\u7d0d\u3057\u307e\u3059\u3002"
        }, 
        {
            "outputs": [
                {
                    "output_type": "stream", 
                    "text": "Successfully downloaded train-images-idx3-ubyte.gz 9912422 bytes.\nExtracting /tmp/data/train-images-idx3-ubyte.gz\nSuccessfully downloaded train-labels-idx1-ubyte.gz 28881 bytes.\nExtracting /tmp/data/train-labels-idx1-ubyte.gz\nSuccessfully downloaded t10k-images-idx3-ubyte.gz 1648877 bytes.\nExtracting /tmp/data/t10k-images-idx3-ubyte.gz\nSuccessfully downloaded t10k-labels-idx1-ubyte.gz 4542 bytes.\nExtracting /tmp/data/t10k-labels-idx1-ubyte.gz\n", 
                    "name": "stdout"
                }
            ], 
            "cell_type": "code", 
            "execution_count": 2, 
            "metadata": {}, 
            "source": "mnist = input_data.read_data_sets(\"/tmp/data/\", one_hot=True)"
        }, 
        {
            "metadata": {}, 
            "cell_type": "markdown", 
            "source": "**[MDS-03]** \u30c8\u30ec\u30fc\u30cb\u30f3\u30b0\u30bb\u30c3\u30c8\u304b\u3089\u300110\u500b\u5206\u306e\u30c7\u30fc\u30bf\u3092\u53d6\u308a\u51fa\u3057\u3066\u3001\u753b\u50cf\u30c7\u30fc\u30bf\u3068\u30e9\u30d9\u30eb\u3092\u5225\u3005\u306e\u5909\u6570\u306b\u683c\u7d0d\u3057\u307e\u3059\u3002"
        }, 
        {
            "outputs": [], 
            "cell_type": "code", 
            "execution_count": 3, 
            "metadata": {
                "collapsed": true
            }, 
            "source": "images, labels = mnist.train.next_batch(10)"
        }, 
        {
            "metadata": {}, 
            "cell_type": "markdown", 
            "source": "**[MDS-04]** 1\u3064\u3081\u306e\u753b\u50cf\u30c7\u30fc\u30bf\u3092\u78ba\u8a8d\u3057\u307e\u3059\u3002\u5404\u30d4\u30af\u30bb\u30eb\u306e\u6fc3\u5ea6\u304c\u4e26\u3093\u3060\u30ea\u30b9\u30c8\uff08array\u30aa\u30d6\u30b8\u30a7\u30af\u30c8\uff09\u306b\u306a\u3063\u3066\u3044\u307e\u3059\u3002"
        }, 
        {
            "outputs": [
                {
                    "output_type": "stream", 
                    "text": "[ 0.          0.          0.          0.          0.          0.          0.\n  0.          0.          0.          0.          0.          0.          0.\n  0.          0.          0.          0.          0.          0.          0.\n  0.          0.          0.          0.          0.          0.          0.\n  0.          0.          0.          0.          0.          0.          0.\n  0.          0.          0.          0.          0.          0.          0.\n  0.          0.          0.          0.          0.          0.          0.\n  0.          0.          0.          0.          0.          0.          0.\n  0.          0.          0.          0.          0.          0.          0.\n  0.          0.          0.          0.          0.          0.          0.\n  0.          0.          0.          0.          0.          0.          0.\n  0.          0.          0.          0.          0.          0.          0.\n  0.          0.          0.          0.          0.          0.          0.\n  0.          0.          0.          0.          0.          0.          0.\n  0.          0.          0.          0.          0.          0.          0.\n  0.          0.          0.          0.          0.          0.          0.\n  0.          0.          0.          0.          0.          0.          0.\n  0.          0.          0.          0.          0.          0.          0.\n  0.          0.          0.          0.          0.          0.          0.\n  0.          0.          0.          0.          0.          0.          0.\n  0.          0.          0.          0.          0.          0.          0.\n  0.          0.          0.          0.          0.          0.          0.\n  0.          0.          0.          0.          0.          0.          0.\n  0.          0.          0.          0.          0.          0.          0.\n  0.          0.          0.          0.          0.          0.          0.\n  0.          0.          0.          0.          0.          0.          0.\n  0.          0.          0.          0.          0.          0.          0.\n  0.          0.          0.          0.          0.          0.          0.\n  0.          0.          0.          0.          0.          0.          0.\n  0.          0.          0.          0.          0.          0.\n  0.36078432  0.96470594  0.12941177  0.          0.          0.          0.\n  0.          0.          0.          0.          0.          0.          0.\n  0.          0.          0.          0.          0.          0.          0.\n  0.          0.          0.          0.          0.          0.\n  0.22352943  0.97647065  0.66666669  0.29411766  0.48627454  0.77647066\n  0.64705884  0.12941177  0.          0.          0.          0.          0.\n  0.          0.          0.          0.          0.          0.          0.\n  0.          0.          0.          0.          0.          0.          0.\n  0.19215688  0.93725497  0.99607849  0.95294124  0.96862751  0.92156869\n  0.72156864  0.92941183  0.71764708  0.          0.          0.          0.\n  0.          0.          0.          0.          0.          0.          0.\n  0.          0.          0.          0.          0.          0.          0.\n  0.03921569  0.80392164  0.99607849  0.84705889  0.51372552  0.27843139\n  0.02352941  0.00392157  0.76862752  0.73333335  0.          0.          0.\n  0.          0.          0.          0.          0.          0.          0.\n  0.          0.          0.          0.          0.          0.          0.\n  0.          0.69803923  0.99607849  0.65098041  0.02352941  0.          0.\n  0.          0.20000002  0.99607849  0.40784317  0.          0.          0.\n  0.          0.          0.          0.          0.          0.          0.\n  0.          0.          0.          0.          0.          0.          0.\n  0.44705886  0.98039222  0.58823532  0.02745098  0.          0.          0.\n  0.          0.61960787  0.99607849  0.14901961  0.          0.          0.\n  0.          0.          0.          0.          0.          0.          0.\n  0.          0.          0.          0.          0.          0.          0.3019608\n  0.94117653  0.65882355  0.          0.          0.          0.          0.\n  0.01176471  0.8588236   0.74117649  0.01176471  0.          0.          0.\n  0.          0.          0.          0.          0.          0.          0.\n  0.          0.          0.          0.          0.          0.\n  0.57254905  0.5411765   0.01568628  0.          0.          0.          0.\n  0.          0.30980393  0.99607849  0.24313727  0.          0.          0.\n  0.          0.          0.          0.          0.          0.          0.\n  0.          0.          0.          0.          0.          0.          0.\n  0.          0.          0.          0.          0.          0.          0.\n  0.          0.57254905  0.89803928  0.11764707  0.          0.          0.\n  0.          0.          0.          0.          0.          0.          0.\n  0.          0.          0.          0.          0.          0.          0.\n  0.          0.          0.          0.          0.          0.          0.\n  0.1137255   0.92156869  0.36078432  0.          0.          0.          0.\n  0.          0.          0.          0.          0.          0.          0.\n  0.          0.          0.          0.          0.          0.          0.\n  0.          0.          0.          0.          0.          0.          0.\n  0.51372552  0.99607849  0.21176472  0.          0.          0.          0.\n  0.          0.          0.          0.          0.          0.          0.\n  0.          0.          0.          0.          0.          0.          0.\n  0.          0.          0.          0.          0.          0.\n  0.10196079  0.88627458  0.72549021  0.00784314  0.          0.          0.\n  0.          0.          0.          0.          0.          0.          0.\n  0.          0.          0.          0.          0.          0.          0.\n  0.          0.          0.          0.          0.          0.          0.\n  0.39607847  0.99607849  0.34117648  0.          0.          0.          0.\n  0.          0.          0.          0.          0.          0.          0.\n  0.          0.          0.          0.          0.          0.          0.\n  0.          0.          0.          0.          0.          0.          0.\n  0.7960785   0.76470596  0.03921569  0.          0.          0.          0.\n  0.          0.          0.          0.          0.          0.          0.\n  0.          0.          0.          0.          0.          0.          0.\n  0.          0.          0.          0.          0.          0.\n  0.23137257  1.          0.4666667   0.          0.          0.          0.\n  0.          0.          0.          0.          0.          0.          0.\n  0.          0.          0.          0.          0.          0.          0.\n  0.          0.          0.          0.          0.          0.          0.\n  0.63137257  0.94901967  0.09803922  0.          0.          0.          0.\n  0.          0.          0.          0.          0.          0.          0.\n  0.          0.          0.          0.          0.          0.          0.\n  0.          0.          0.          0.          0.          0.\n  0.20000002  0.98823535  0.61176473  0.          0.          0.          0.\n  0.          0.          0.          0.          0.          0.          0.\n  0.          0.          0.          0.          0.          0.          0.\n  0.          0.          0.          0.          0.          0.          0.\n  0.47058827  0.99607849  0.17647059  0.          0.          0.          0.\n  0.          0.          0.          0.          0.          0.          0.\n  0.          0.          0.          0.          0.          0.          0.\n  0.          0.          0.          0.          0.          0.\n  0.10196079  0.96470594  0.74509805  0.          0.          0.          0.\n  0.          0.          0.          0.          0.          0.          0.\n  0.          0.          0.          0.          0.          0.          0.\n  0.          0.          0.          0.          0.          0.          0.\n  0.21568629  0.99607849  0.50588238  0.          0.          0.          0.\n  0.          0.          0.          0.          0.          0.          0.\n  0.          0.          0.          0.          0.          0.          0.\n  0.          0.          0.          0.          0.          0.          0.\n  0.          0.          0.          0.          0.          0.          0.\n  0.          0.          0.          0.          0.          0.          0.\n  0.          0.          0.        ]\n", 
                    "name": "stdout"
                }
            ], 
            "cell_type": "code", 
            "execution_count": 4, 
            "metadata": {
                "scrolled": true
            }, 
            "source": "print images[0]"
        }, 
        {
            "metadata": {}, 
            "cell_type": "markdown", 
            "source": "**[MDS-05]** \u5bfe\u5fdc\u3059\u308b\u30e9\u30d9\u30eb\u3092\u78ba\u8a8d\u3057\u307e\u3059\u3002\u5148\u982d\u30920\u3068\u3057\u3066\u30017\u756a\u76ee\u306e\u8981\u7d20\u304c1\u306b\u306a\u3063\u3066\u3044\u308b\u306e\u3067\u3001\u300c7\u300d\u306e\u753b\u50cf\u3067\u3042\u308b\u4e8b\u3092\u793a\u3057\u307e\u3059\u3002"
        }, 
        {
            "outputs": [
                {
                    "output_type": "stream", 
                    "text": "[ 0.  0.  0.  0.  0.  0.  0.  1.  0.  0.]\n", 
                    "name": "stdout"
                }
            ], 
            "cell_type": "code", 
            "execution_count": 5, 
            "metadata": {
                "scrolled": true
            }, 
            "source": "print labels[0]"
        }, 
        {
            "metadata": {}, 
            "cell_type": "markdown", 
            "source": "**[MDS-06]** \u753b\u50cf\u30c7\u30fc\u30bf\u3092\u5b9f\u969b\u306e\u753b\u50cf\u3068\u3057\u3066\u8868\u793a\u3057\u3066\u307f\u307e\u3059\u3002"
        }, 
        {
            "outputs": [], 
            "cell_type": "code", 
            "execution_count": 8, 
            "metadata": {}, 
            "source": "fig = plt.figure(figsize=(8,4))\nfor c, (image, label) in enumerate(zip(images, labels)):\n    subplot = fig.add_subplot(2,5,c+1)\n    subplot.set_xticks([])\n    subplot.set_yticks([])\n    subplot.set_title('%d' % np.argmax(label))\n    subplot.imshow(image.reshape((28,28)), vmin=0, vmax=1,\n                   cmap=plt.cm.gray_r, interpolation=\"nearest\")"
        }, 
        {
            "outputs": [], 
            "cell_type": "code", 
            "execution_count": null, 
            "metadata": {
                "collapsed": true
            }, 
            "source": ""
        }
    ], 
    "nbformat": 4, 
    "nbformat_minor": 1
}