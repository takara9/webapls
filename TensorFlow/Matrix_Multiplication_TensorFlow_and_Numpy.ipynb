{
    "metadata": {
        "language_info": {
            "file_extension": ".py", 
            "mimetype": "text/x-python", 
            "codemirror_mode": {
                "version": 2, 
                "name": "ipython"
            }, 
            "pygments_lexer": "ipython2", 
            "name": "python", 
            "version": "2.7.11", 
            "nbconvert_exporter": "python"
        }, 
        "kernelspec": {
            "display_name": "Python 2 with Spark 2.1", 
            "language": "python", 
            "name": "python2-spark21"
        }
    }, 
    "cells": [
        {
            "outputs": [
                {
                    "metadata": {}, 
                    "execution_count": 1, 
                    "data": {
                        "text/plain": "array([[14],\n       [32]])"
                    }, 
                    "output_type": "execute_result"
                }
            ], 
            "cell_type": "code", 
            "execution_count": 1, 
            "metadata": {}, 
            "source": "# Numpy \u3067\u306e \u884c\u5217\u306e\u7a4d\n\nimport numpy as np\nw = np.array([[1,2,3],[4,5,6]])\nx = np.array([[1],[2],[3]])\nw.dot(x)"
        }, 
        {
            "outputs": [
                {
                    "metadata": {}, 
                    "execution_count": 2, 
                    "data": {
                        "text/plain": "array([[14],\n       [32]], dtype=int32)"
                    }, 
                    "output_type": "execute_result"
                }
            ], 
            "cell_type": "code", 
            "execution_count": 2, 
            "metadata": {}, 
            "source": "# TensorFlow\u3067\u306e\u884c\u5217\u306e\u7a4d\n\nimport tensorflow as tf\nimport numpy as np\n\n# numpy \u914d\u5217\nw_data = np.array([[1,2,3],[4,5,6]]).astype(\"int32\")\nx_data = np.array([[1],[2],[3]]).astype(\"int32\")\n\n# \u884c\u5217\u5b9a\u7fa9\nw = tf.get_variable(\"weight\" ,initializer=tf.constant(w_data))\nx = tf.get_variable(\"x\" ,initializer=tf.constant(x_data))\nf = tf.matmul(w, x)\n\n# TesnsorFlow \u521d\u671f\u5316\ninit = tf.global_variables_initializer()\nsess = tf.Session()\nsess.run(init)\n\n# \u884c\u5217\u306e\u7a4d\u306e\u5b9f\u884c\nsess.run(f) "
        }, 
        {
            "outputs": [
                {
                    "output_type": "stream", 
                    "text": "[[ 1.  0.  0.  0.  0.]\n [ 0.  2.  0.  0.  0.]\n [ 0.  0.  3.  0.  0.]\n [ 0.  0.  0.  4.  0.]\n [ 0.  0.  0.  0.  5.]]\n", 
                    "name": "stdout"
                }
            ], 
            "cell_type": "code", 
            "execution_count": 10, 
            "metadata": {}, 
            "source": "# \u5bfe\u89d2\u7dda\u884c\u5217 diagonal tensor \n# https://www.tensorflow.org/api_docs/python/tf/diag\n#\nimport tensorflow as tf\nimport numpy as np\n\nx_array = np.array([1,2,3,4,5]).astype(\"float32\")\nx_tf = tf.constant(x_array)\n\n# TesnsorFlow \u521d\u671f\u5316\ninit = tf.global_variables_initializer()\nsess = tf.Session()\nsess.run(init)\n\n# \u5bfe\u89d2\u7dda\u884c\u5217 \ndiag = sess.run(tf.diag(x_tf))\nprint diag"
        }, 
        {
            "outputs": [
                {
                    "metadata": {}, 
                    "execution_count": 11, 
                    "data": {
                        "text/plain": "array([ 1.,  2.,  3.,  4.,  5.], dtype=float32)"
                    }, 
                    "output_type": "execute_result"
                }
            ], 
            "cell_type": "code", 
            "execution_count": 11, 
            "metadata": {}, 
            "source": "sess.run(tf.diag_part(diag))"
        }, 
        {
            "outputs": [], 
            "cell_type": "code", 
            "execution_count": null, 
            "metadata": {
                "collapsed": true
            }, 
            "source": ""
        }
    ], 
    "nbformat": 4, 
    "nbformat_minor": 1
}