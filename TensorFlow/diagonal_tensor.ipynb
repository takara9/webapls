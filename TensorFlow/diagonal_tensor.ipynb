{
    "nbformat_minor": 1, 
    "cells": [
        {
            "outputs": [], 
            "cell_type": "code", 
            "metadata": {
                "collapsed": true
            }, 
            "execution_count": null, 
            "source": "# \u5bfe\u89d2\u7dda\u884c\u5217 diagonal tensor \n# https://www.tensorflow.org/api_docs/python/tf/diag\n#\nimport tensorflow as tf\nimport numpy as np\n\nx_array = np.array([1,2,3,4,5]).astype(\"float32\")\nx_tf = tf.constant(x_array)\n\n# TesnsorFlow \u521d\u671f\u5316\ninit = tf.global_variables_initializer()\nsess = tf.Session()\nsess.run(init)\n\n# \u5bfe\u89d2\u7dda\u884c\u5217 \ndiag = sess.run(tf.diag(x_tf))\nprint diag"
        }, 
        {
            "outputs": [], 
            "cell_type": "code", 
            "metadata": {
                "collapsed": true
            }, 
            "execution_count": null, 
            "source": ""
        }
    ], 
    "metadata": {
        "kernelspec": {
            "display_name": "Python 2 with Spark 2.1", 
            "name": "python2-spark21", 
            "language": "python"
        }, 
        "language_info": {
            "name": "python", 
            "file_extension": ".py", 
            "version": "2.7.11", 
            "nbconvert_exporter": "python", 
            "mimetype": "text/x-python", 
            "codemirror_mode": {
                "name": "ipython", 
                "version": 2
            }, 
            "pygments_lexer": "ipython2"
        }
    }, 
    "nbformat": 4
}